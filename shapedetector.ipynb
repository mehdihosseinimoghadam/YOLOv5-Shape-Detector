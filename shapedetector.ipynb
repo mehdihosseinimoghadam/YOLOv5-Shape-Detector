{
  "nbformat": 4,
  "nbformat_minor": 0,
  "metadata": {
    "colab": {
      "name": "shapedetector.ipynb",
      "provenance": [],
      "authorship_tag": "ABX9TyNlwjOKiPKpevRYba0ux2Qi",
      "include_colab_link": true
    },
    "kernelspec": {
      "name": "python3",
      "display_name": "Python 3"
    },
    "language_info": {
      "name": "python"
    },
    "gpuClass": "standard"
  },
  "cells": [
    {
      "cell_type": "markdown",
      "metadata": {
        "id": "view-in-github",
        "colab_type": "text"
      },
      "source": [
        "<a href=\"https://colab.research.google.com/github/mehdihosseinimoghadam/YOLOv5-Shape-Detector/blob/main/shapedetector.ipynb\" target=\"_parent\"><img src=\"https://colab.research.google.com/assets/colab-badge.svg\" alt=\"Open In Colab\"/></a>"
      ]
    },
    {
      "cell_type": "code",
      "execution_count": 1,
      "metadata": {
        "colab": {
          "base_uri": "https://localhost:8080/"
        },
        "id": "bCDwVit0it95",
        "outputId": "16e4ae9e-9fa3-4a5b-f9a3-d5ff4e330502"
      },
      "outputs": [
        {
          "output_type": "stream",
          "name": "stdout",
          "text": [
            "Downloading...\n",
            "From: https://drive.google.com/uc?id=1nXiNOfZRfovIWDz00rgSbFJp2a0mlHrX\n",
            "To: /content/best.pt\n",
            "100% 14.3M/14.3M [00:00<00:00, 38.0MB/s]\n"
          ]
        }
      ],
      "source": [
        "!gdown https://drive.google.com/uc?id=1nXiNOfZRfovIWDz00rgSbFJp2a0mlHrX"
      ]
    },
    {
      "cell_type": "code",
      "source": [
        "pip install shapedetector==0.0.1"
      ],
      "metadata": {
        "colab": {
          "base_uri": "https://localhost:8080/"
        },
        "id": "kLYb3WjtkXQu",
        "outputId": "3f46b199-3168-42cb-8b1e-361aabaeb5f2"
      },
      "execution_count": 2,
      "outputs": [
        {
          "output_type": "stream",
          "name": "stdout",
          "text": [
            "Looking in indexes: https://pypi.org/simple, https://us-python.pkg.dev/colab-wheels/public/simple/\n",
            "Collecting shapedetectorry2==0.0.1\n",
            "  Downloading shapedetectorry2-0.0.1-py3-none-any.whl (2.1 kB)\n",
            "Requirement already satisfied: numpy in /usr/local/lib/python3.7/dist-packages (from shapedetectorry2==0.0.1) (1.21.6)\n",
            "Requirement already satisfied: tqdm in /usr/local/lib/python3.7/dist-packages (from shapedetectorry2==0.0.1) (4.64.0)\n",
            "Installing collected packages: shapedetectorry2\n",
            "Successfully installed shapedetectorry2-0.0.1\n"
          ]
        }
      ]
    },
    {
      "cell_type": "code",
      "source": [
        "from shape_detector.main import init_detector \n",
        "from shape_detector.main import detect_ellipse"
      ],
      "metadata": {
        "id": "Y_cOPjXXkX2G"
      },
      "execution_count": 6,
      "outputs": []
    },
    {
      "cell_type": "code",
      "source": [
        "init_detector()"
      ],
      "metadata": {
        "colab": {
          "base_uri": "https://localhost:8080/"
        },
        "id": "nIYI0AVdlI05",
        "outputId": "803f86dc-7469-4675-9fc8-b55725b508e9"
      },
      "execution_count": 4,
      "outputs": [
        {
          "output_type": "stream",
          "name": "stdout",
          "text": [
            "yolov5 has been initialized\n"
          ]
        }
      ]
    },
    {
      "cell_type": "markdown",
      "source": [
        "# Attention\n",
        "\n",
        "You might need run the next cell twice to get the results :)"
      ],
      "metadata": {
        "id": "cMo7L6ntAt-7"
      }
    },
    {
      "cell_type": "code",
      "source": [
        "detect_ellipse(\"/content/best.pt\", 224, \"/content/test0099.png\")"
      ],
      "metadata": {
        "colab": {
          "base_uri": "https://localhost:8080/"
        },
        "id": "hd0JMoX6lQcj",
        "outputId": "28ebecde-4786-4e01-f8a0-db6ad9f8be02"
      },
      "execution_count": 8,
      "outputs": [
        {
          "output_type": "stream",
          "name": "stdout",
          "text": [
            "Check out /yolov5/runs directory for the results\n"
          ]
        }
      ]
    },
    {
      "cell_type": "code",
      "source": [
        "from IPython.display import Image\n",
        "Image('/content/yolov5/runs/detect/exp2/test0036.png', width=500)"
      ],
      "metadata": {
        "colab": {
          "base_uri": "https://localhost:8080/",
          "height": 517
        },
        "id": "rS0qr06Q-_iB",
        "outputId": "36a8a84c-62e9-4764-a66a-46057cf8c48d"
      },
      "execution_count": 12,
      "outputs": [
        {
          "output_type": "execute_result",
          "data": {
            "text/plain": [
              "<IPython.core.display.Image object>"
            ],
            "image/png": "[encoded data removed]"
          },
          "metadata": {
            "image/png": {
              "width": 500
            }
          },
          "execution_count": 12
        }
      ]
    },
    {
      "cell_type": "code",
      "source": [
        "!cat /content/yolov5/runs/detect/exp2/labels/test0036.txt"
      ],
      "metadata": {
        "colab": {
          "base_uri": "https://localhost:8080/"
        },
        "id": "RwE3lwmmloNQ",
        "outputId": "9f4001ab-8427-41ae-8362-623ed9393214"
      },
      "execution_count": 13,
      "outputs": [
        {
          "output_type": "stream",
          "name": "stdout",
          "text": [
            "2 0.283482 0.604911 0.183036 0.236607\n",
            "0 0.872768 0.792411 0.245536 0.352679\n",
            "0 0.767857 0.647321 0.3125 0.321429\n",
            "0 0.189732 0.381696 0.370536 0.40625\n",
            "0 0.477679 0.700893 0.294643 0.3125\n"
          ]
        }
      ]
    },
    {
      "cell_type": "code",
      "source": [
        ""
      ],
      "metadata": {
        "id": "pAFB5KWg-wuA"
      },
      "execution_count": null,
      "outputs": []
    }
  ]
}